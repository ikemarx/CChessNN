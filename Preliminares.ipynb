{
 "cells": [
  {
   "cell_type": "markdown",
   "metadata": {},
   "source": [
    "# Preliminares\n",
    "temos que instalar algumas coisas antes de começar\n",
    "\n",
    "first, install `zstd` on your operating system. Then, run this code:"
   ]
  },
  {
   "cell_type": "code",
   "execution_count": null,
   "metadata": {},
   "outputs": [],
   "source": [
    "# Downloading the file we want (just change the date if you want another month of data)\n",
    "\n",
    "!wget https://database.lichess.org/standard/lichess_db_standard_rated_2024-11.pgn.zst\n",
    "!pzstd -d lichess_db_standard_rated_2024-11.pgn.zst\n",
    "!rm lichess_db_standard_rated_2024-11.pgn.zst # Clean up some space\n",
    "!mv lichess_db_standard_rated_2024-11.pgn input.pgn # Renaming the thing\n",
    "\n",
    "%pip install -r requirements.txt"
   ]
  }
 ],
 "metadata": {
  "language_info": {
   "name": "python"
  }
 },
 "nbformat": 4,
 "nbformat_minor": 2
}
