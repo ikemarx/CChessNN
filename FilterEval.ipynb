{
 "cells": [
  {
   "cell_type": "code",
   "execution_count": 1,
   "id": "6dd655d3-f7c3-47db-bd11-1c658d8a6229",
   "metadata": {},
   "outputs": [
    {
     "ename": "KeyboardInterrupt",
     "evalue": "",
     "output_type": "error",
     "traceback": [
      "\u001b[1;31m---------------------------------------------------------------------------\u001b[0m",
      "\u001b[1;31mKeyboardInterrupt\u001b[0m                         Traceback (most recent call last)",
      "Cell \u001b[1;32mIn[1], line 28\u001b[0m\n\u001b[0;32m     25\u001b[0m input_pgn \u001b[38;5;241m=\u001b[39m \u001b[38;5;124m\"\u001b[39m\u001b[38;5;124mlichess_db_standard_rated_2016-12.pgn\u001b[39m\u001b[38;5;124m\"\u001b[39m\n\u001b[0;32m     26\u001b[0m output_pgn \u001b[38;5;241m=\u001b[39m \u001b[38;5;124m\"\u001b[39m\u001b[38;5;124mfiltered_games_2016_12.pgn\u001b[39m\u001b[38;5;124m\"\u001b[39m\n\u001b[1;32m---> 28\u001b[0m filter_games_with_eval(input_pgn, output_pgn)\n",
      "Cell \u001b[1;32mIn[1], line 13\u001b[0m, in \u001b[0;36mfilter_games_with_eval\u001b[1;34m(input_pgn, output_pgn)\u001b[0m\n\u001b[0;32m     11\u001b[0m \u001b[38;5;28;01mwith\u001b[39;00m \u001b[38;5;28mopen\u001b[39m(input_pgn, \u001b[38;5;124m\"\u001b[39m\u001b[38;5;124mr\u001b[39m\u001b[38;5;124m\"\u001b[39m) \u001b[38;5;28;01mas\u001b[39;00m infile, \u001b[38;5;28mopen\u001b[39m(output_pgn, \u001b[38;5;124m\"\u001b[39m\u001b[38;5;124mw\u001b[39m\u001b[38;5;124m\"\u001b[39m) \u001b[38;5;28;01mas\u001b[39;00m outfile:\n\u001b[0;32m     12\u001b[0m     \u001b[38;5;28;01mwhile\u001b[39;00m \u001b[38;5;28;01mTrue\u001b[39;00m:\n\u001b[1;32m---> 13\u001b[0m         game \u001b[38;5;241m=\u001b[39m chess\u001b[38;5;241m.\u001b[39mpgn\u001b[38;5;241m.\u001b[39mread_game(infile)\n\u001b[0;32m     14\u001b[0m         \u001b[38;5;28;01mif\u001b[39;00m game \u001b[38;5;129;01mis\u001b[39;00m \u001b[38;5;28;01mNone\u001b[39;00m:\n\u001b[0;32m     15\u001b[0m             \u001b[38;5;28;01mbreak\u001b[39;00m  \u001b[38;5;66;03m# End of file\u001b[39;00m\n",
      "File \u001b[1;32m~\\.conda\\envs\\main\\Lib\\site-packages\\chess\\pgn.py:1754\u001b[0m, in \u001b[0;36mread_game\u001b[1;34m(handle, Visitor)\u001b[0m\n\u001b[0;32m   1752\u001b[0m             \u001b[38;5;28;01melse\u001b[39;00m:\n\u001b[0;32m   1753\u001b[0m                 visitor\u001b[38;5;241m.\u001b[39mvisit_move(board_stack[\u001b[38;5;241m-\u001b[39m\u001b[38;5;241m1\u001b[39m], move)\n\u001b[1;32m-> 1754\u001b[0m                 board_stack[\u001b[38;5;241m-\u001b[39m\u001b[38;5;241m1\u001b[39m]\u001b[38;5;241m.\u001b[39mpush(move)\n\u001b[0;32m   1755\u001b[0m         visitor\u001b[38;5;241m.\u001b[39mvisit_board(board_stack[\u001b[38;5;241m-\u001b[39m\u001b[38;5;241m1\u001b[39m])\n\u001b[0;32m   1757\u001b[0m \u001b[38;5;28;01mif\u001b[39;00m fresh_line:\n",
      "File \u001b[1;32m~\\.conda\\envs\\main\\Lib\\site-packages\\chess\\__init__.py:2335\u001b[0m, in \u001b[0;36mBoard.push\u001b[1;34m(self, move)\u001b[0m\n\u001b[0;32m   2333\u001b[0m \u001b[38;5;66;03m# Push move and remember board state.\u001b[39;00m\n\u001b[0;32m   2334\u001b[0m move \u001b[38;5;241m=\u001b[39m \u001b[38;5;28mself\u001b[39m\u001b[38;5;241m.\u001b[39m_to_chess960(move)\n\u001b[1;32m-> 2335\u001b[0m board_state \u001b[38;5;241m=\u001b[39m _BoardState(\u001b[38;5;28mself\u001b[39m)\n\u001b[0;32m   2336\u001b[0m \u001b[38;5;28mself\u001b[39m\u001b[38;5;241m.\u001b[39mcastling_rights \u001b[38;5;241m=\u001b[39m \u001b[38;5;28mself\u001b[39m\u001b[38;5;241m.\u001b[39mclean_castling_rights()  \u001b[38;5;66;03m# Before pushing stack\u001b[39;00m\n\u001b[0;32m   2337\u001b[0m \u001b[38;5;28mself\u001b[39m\u001b[38;5;241m.\u001b[39mmove_stack\u001b[38;5;241m.\u001b[39mappend(\u001b[38;5;28mself\u001b[39m\u001b[38;5;241m.\u001b[39m_from_chess960(\u001b[38;5;28mself\u001b[39m\u001b[38;5;241m.\u001b[39mchess960, move\u001b[38;5;241m.\u001b[39mfrom_square, move\u001b[38;5;241m.\u001b[39mto_square, move\u001b[38;5;241m.\u001b[39mpromotion, move\u001b[38;5;241m.\u001b[39mdrop))\n",
      "\u001b[1;31mKeyboardInterrupt\u001b[0m: "
     ]
    }
   ],
   "source": [
    "import chess.pgn\n",
    "\n",
    "def filter_games_with_eval(input_pgn, output_pgn):\n",
    "    \"\"\"\n",
    "    Filters games in a PGN file, keeping only those with [%eval ...] comments.\n",
    "    \n",
    "    Args:\n",
    "        input_pgn (str): Path to the input PGN file.\n",
    "        output_pgn (str): Path to the output PGN file where filtered games will be saved.\n",
    "    \"\"\"\n",
    "    with open(input_pgn, \"r\") as infile, open(output_pgn, \"w\") as outfile:\n",
    "        while True:\n",
    "            game = chess.pgn.read_game(infile)\n",
    "            if game is None:\n",
    "                break  # End of file\n",
    "\n",
    "            # Check if any move contains an [%eval] comment\n",
    "            has_eval = any(\"[%eval\" in comment for node in game.mainline() for comment in node.comment.split(\"\\n\"))\n",
    "\n",
    "            if has_eval:\n",
    "                # Write the game to the output file\n",
    "                outfile.write(str(game) + \"\\n\\n\")\n",
    "\n",
    "# Replace these with your file paths\n",
    "input_pgn = \"lichess_db_standard_rated_2016-12.pgn\"\n",
    "output_pgn = \"filtered_games_2016_12.pgn\"\n",
    "\n",
    "filter_games_with_eval(input_pgn, output_pgn)"
   ]
  }
 ],
 "metadata": {
  "kernelspec": {
   "display_name": "Python 3 (ipykernel)",
   "language": "python",
   "name": "python3"
  },
  "language_info": {
   "codemirror_mode": {
    "name": "ipython",
    "version": 3
   },
   "file_extension": ".py",
   "mimetype": "text/x-python",
   "name": "python",
   "nbconvert_exporter": "python",
   "pygments_lexer": "ipython3",
   "version": "3.12.7"
  }
 },
 "nbformat": 4,
 "nbformat_minor": 5
}
