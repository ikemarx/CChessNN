{
 "cells": [
  {
   "cell_type": "markdown",
   "metadata": {},
   "source": [
    "# PGN to Tensor"
   ]
  },
  {
   "cell_type": "code",
   "execution_count": null,
   "metadata": {},
   "outputs": [],
   "source": [
    "import chess\n",
    "import chess.pgn\n",
    "import numpy as np"
   ]
  },
  {
   "cell_type": "code",
   "execution_count": null,
   "metadata": {},
   "outputs": [],
   "source": [
    "def create_board_tensor(board):\n",
    "    # Initialize 8x8x12 tensor with zeros\n",
    "    tensor = np.zeros((8, 8, 12), dtype=np.float32)\n",
    "\n",
    "    # Piece type mapping (6 pieces * 2 colors = 12 channels)\n",
    "    piece_idx = {\n",
    "        'P': 0, 'N': 1, 'B': 2, 'R': 3, 'Q': 4, 'K': 5,\n",
    "        'p': 6, 'n': 7, 'b': 8, 'r': 9, 'q': 10, 'k': 11\n",
    "    }\n",
    "\n",
    "    # Fill tensor based on piece positions\n",
    "    for square in chess.SQUARES:\n",
    "        piece = board.piece_at(square)\n",
    "        if piece is not None:\n",
    "            rank = 7 - chess.square_rank(square)  # Flip rank for correct orientation\n",
    "            file = chess.square_file(square)\n",
    "            tensor[rank, file, piece_idx[piece.symbol()]] = 1\n",
    "\n",
    "    return tensor"
   ]
  },
  {
   "cell_type": "code",
   "execution_count": null,
   "metadata": {},
   "outputs": [],
   "source": [
    "def extract_eval(comment):\n",
    "    if not comment or '[%eval' not in comment:\n",
    "        return None\n",
    "\n",
    "    try:\n",
    "        # Extract everything between [%eval and ]\n",
    "        start = comment.index('[%eval') + 6\n",
    "        end = comment.index(']', start)\n",
    "        eval_str = comment[start:end].strip()\n",
    "\n",
    "        # Handle mate scores\n",
    "        if eval_str.startswith('#'):\n",
    "            return 100 if int(eval_str[1:]) > 0 else -100\n",
    "\n",
    "        # Handle regular scores\n",
    "        return float(eval_str)\n",
    "    except:\n",
    "        return None"
   ]
  },
  {
   "cell_type": "code",
   "execution_count": null,
   "metadata": {},
   "outputs": [],
   "source": [
    "def process_pgn(pgn_file, max_positions):\n",
    "    positions = {}  # Dictionary to store unique positions and their evaluations\n",
    "\n",
    "    with open(pgn_file) as f:\n",
    "        while True:\n",
    "            game = chess.pgn.read_game(f)\n",
    "            if game is None:\n",
    "                break\n",
    "\n",
    "            board = game.board()\n",
    "            node = game\n",
    "\n",
    "            while node.variations:\n",
    "                node = node.variation(0)\n",
    "                board.push(node.move)\n",
    "\n",
    "                eval_score = extract_eval(node.comment)\n",
    "                if eval_score is not None:\n",
    "                    # Create FEN string without move counters to identify unique positions\n",
    "                    fen = board.fen().rsplit(' ', 2)[0]\n",
    "                    if fen not in positions:\n",
    "                        tensor = create_board_tensor(board)\n",
    "                        positions[fen] = (tensor, eval_score)\n",
    "\n",
    "                        # Stop if max_positions is reached\n",
    "                        if len(positions) >= max_positions:\n",
    "                            print(f\"Reached max positions limit: {max_positions}\")\n",
    "                            return positions\n",
    "\n",
    "    return positions"
   ]
  },
  {
   "cell_type": "markdown",
   "metadata": {},
   "source": [
    "## Rodar o código"
   ]
  },
  {
   "cell_type": "code",
   "execution_count": null,
   "metadata": {},
   "outputs": [
    {
     "name": "stdout",
     "output_type": "stream",
     "text": [
      "Reached max positions limit: 50000\n",
      "Total unique positions: 50000\n",
      "X shape: (50000, 8, 8, 12)\n",
      "y shape: (50000,)\n"
     ]
    }
   ],
   "source": [
    "# Usage\n",
    "pgn_file = \"input.pgn\"\n",
    "max_positions = 50000  # Limit the number of board states stored\n",
    "positions = process_pgn(pgn_file, max_positions)\n",
    "\n",
    "# Convert to training data\n",
    "X = []  # Tensors\n",
    "y = []  # Evaluations\n",
    "\n",
    "for tensor, eval_score in positions.values():\n",
    "    X.append(tensor)\n",
    "    y.append(eval_score)\n",
    "\n",
    "X = np.array(X)\n",
    "y = np.array(y)\n",
    "\n",
    "# Now X and y are ready for machine learning\n",
    "# X.shape should be (n_positions, 8, 8, 12)\n",
    "# y.shape should be (n_positions,)\n",
    "\n",
    "print(f\"Total unique positions: {len(positions)}\")\n",
    "print(f\"X shape: {X.shape}\")\n",
    "print(f\"y shape: {y.shape}\")\n",
    "\n",
    "# Save\n",
    "np.save('processed_data/board_states.npy', X)\n",
    "np.save('processed_data/evaluations.npy', y)"
   ]
  }
 ],
 "metadata": {
  "language_info": {
   "name": "python"
  }
 },
 "nbformat": 4,
 "nbformat_minor": 2
}
